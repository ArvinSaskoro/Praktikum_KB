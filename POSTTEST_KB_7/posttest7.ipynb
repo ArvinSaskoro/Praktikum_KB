{
 "cells": [
  {
   "cell_type": "markdown",
   "id": "225845ac",
   "metadata": {},
   "source": [
    "## Nama : M. Arvin Saskoro\n",
    "## NIM : 2109106048\n",
    "## Kelas : Informatika A2 21"
   ]
  },
  {
   "cell_type": "code",
   "execution_count": 41,
   "id": "47bc5b23-c09a-430b-94bf-07c1d49c35bc",
   "metadata": {},
   "outputs": [],
   "source": [
    "import tensorflow as tf"
   ]
  },
  {
   "cell_type": "markdown",
   "id": "c7e83e75-1ef4-4e85-bab8-0be09d4c0eb1",
   "metadata": {},
   "source": [
    "### Create Random Tensor "
   ]
  },
  {
   "cell_type": "code",
   "execution_count": 42,
   "id": "27f547cb-40f9-49b9-b5f4-1b3c6f0a0642",
   "metadata": {},
   "outputs": [
    {
     "data": {
      "text/plain": [
       "<tf.Tensor: shape=(5, 5), dtype=float32, numpy=\n",
       "array([[6.1062603, 6.4610124, 3.7857468, 5.7985277, 5.56736  ],\n",
       "       [3.581728 , 5.1960773, 3.982624 , 4.374564 , 5.1403136],\n",
       "       [5.138782 , 4.7797604, 3.3930943, 4.2583537, 4.0098276],\n",
       "       [5.3088903, 6.071995 , 4.80572  , 4.3322344, 4.9571342],\n",
       "       [4.111652 , 3.4733233, 4.321433 , 5.552151 , 3.9584675]],\n",
       "      dtype=float32)>"
      ]
     },
     "execution_count": 42,
     "metadata": {},
     "output_type": "execute_result"
    }
   ],
   "source": [
    "random_tensor = tf.random.normal([5,5], mean = 5, stddev = 1)\n",
    "random_tensor"
   ]
  },
  {
   "cell_type": "markdown",
   "id": "eee73f4a-7898-4c25-8252-407cee5e53b9",
   "metadata": {},
   "source": [
    "### Create Tensor from List "
   ]
  },
  {
   "cell_type": "code",
   "execution_count": 43,
   "id": "5e1707ac-1c1f-422d-a7a8-38fe0ae1b2d7",
   "metadata": {},
   "outputs": [
    {
     "data": {
      "text/plain": [
       "<tf.Tensor: shape=(5, 5), dtype=float32, numpy=\n",
       "array([[ 2.,  3.,  5.,  7., 11.],\n",
       "       [29., 23., 19., 17., 13.],\n",
       "       [31., 37., 41., 43., 47.],\n",
       "       [71., 67., 61., 59., 53.],\n",
       "       [73., 79., 83., 89., 97.]], dtype=float32)>"
      ]
     },
     "execution_count": 43,
     "metadata": {},
     "output_type": "execute_result"
    }
   ],
   "source": [
    "list = [[2,3,5,7,11],\n",
    "       [29,23,19,17,13],\n",
    "       [31,37,41,43,47],\n",
    "       [71,67,61,59,53],\n",
    "       [73,79,83,89,97]]\n",
    "prime_tensor = tf.convert_to_tensor(list, dtype = tf.float32)\n",
    "prime_tensor"
   ]
  },
  {
   "cell_type": "markdown",
   "id": "e1b11364-0df0-49fa-b062-96e005e82e4f",
   "metadata": {},
   "source": [
    "### Menampilkan Dimensi Kedua Tensor Diatas"
   ]
  },
  {
   "cell_type": "code",
   "execution_count": 44,
   "id": "3c56b456-1995-4bb9-95ef-2944e7f0d034",
   "metadata": {},
   "outputs": [
    {
     "name": "stdout",
     "output_type": "stream",
     "text": [
      "Dimensi Random Tensor :  (5, 5)\n",
      "Dimensi Prime Tensor  :  (5, 5)\n"
     ]
    }
   ],
   "source": [
    "print('Dimensi Random Tensor : ', random_tensor.shape)\n",
    "print('Dimensi Prime Tensor  : ', prime_tensor.shape)"
   ]
  },
  {
   "cell_type": "markdown",
   "id": "d06e6da9-36fe-4278-a060-a1bde1a13dfb",
   "metadata": {},
   "source": [
    "### Perhitungan Aritmatika 2 Variabel"
   ]
  },
  {
   "cell_type": "code",
   "execution_count": 50,
   "id": "372a4543-fad9-4b38-8bff-10182ec8c16a",
   "metadata": {},
   "outputs": [
    {
     "name": "stdout",
     "output_type": "stream",
     "text": [
      "Penambahan :\n",
      " [[  8.10626    9.461012   8.785747  12.798528  16.56736 ]\n",
      " [ 32.581726  28.196077  22.982624  21.374565  18.140314]\n",
      " [ 36.138783  41.779762  44.393093  47.258354  51.009827]\n",
      " [ 76.30889   73.07199   65.80572   63.332233  57.957134]\n",
      " [ 77.11165   82.47332   87.321434  94.552155 100.958466]]\n",
      "\n",
      "Pengurangan :\n",
      " [[  4.1062603   3.4610124  -1.2142532  -1.2014723  -5.43264  ]\n",
      " [-25.418272  -17.803923  -15.017376  -12.625436   -7.8596864]\n",
      " [-25.861217  -32.220238  -37.606907  -38.741646  -42.990173 ]\n",
      " [-65.69111   -60.928005  -56.19428   -54.667767  -48.042866 ]\n",
      " [-68.88835   -75.52668   -78.678566  -83.447845  -93.041534 ]]\n",
      "\n",
      "Perkalian :\n",
      " [[1135.0527  1135.3175  1124.3073  1152.9763  1176.448  ]\n",
      " [ 967.148    976.79266  973.41614 1000.2454  1024.5938 ]\n",
      " [ 849.1371   852.9814   848.2015   871.248    892.785  ]\n",
      " [1005.1424  1015.26746 1014.65533 1043.8188  1073.653  ]\n",
      " [ 926.08496  936.82745  930.9642   953.5302   971.7241 ]]\n",
      "\n",
      "Pembagian :\n",
      " [[3.0531301  2.1536708  0.75714934 0.8283611  0.5061236 ]\n",
      " [0.12350786 0.2259164  0.20961179 0.25732732 0.39540875]\n",
      " [0.16576716 0.12918271 0.0827584  0.09903148 0.08531548]\n",
      " [0.0747731  0.09062679 0.07878229 0.0734277  0.09353083]\n",
      " [0.056324   0.04396612 0.05206546 0.06238372 0.04080894]]\n",
      "\n",
      "Perpangkatan :\n",
      " [[6.8891800e+01 1.2097241e+03 4.4271420e+02 7.9492180e+04 6.2778062e+05]\n",
      " [1.7294652e+05 1.1902636e+07 1.2382116e+05 2.4136692e+05 5.3213056e+05]\n",
      " [4.6108676e+07 3.1306062e+07 2.9670694e+05 9.0341330e+06 5.0678550e+06]\n",
      " [6.7317437e+09 1.2243812e+11 3.8001002e+08 4.6961932e+07 3.5274995e+08]\n",
      " [4.5849540e+07 3.9000708e+06 1.9641178e+08 6.6574524e+10 7.3210152e+07]]\n"
     ]
    }
   ],
   "source": [
    "print(\"Penambahan :\\n\" ,tf.add(random_tensor,prime_tensor).numpy())\n",
    "print(\"\\nPengurangan :\\n\" ,tf.subtract(random_tensor,prime_tensor).numpy())\n",
    "print(\"\\nPerkalian :\\n\" ,tf.matmul(random_tensor,prime_tensor).numpy())\n",
    "print(\"\\nPembagian :\\n\" ,tf.divide(random_tensor,prime_tensor).numpy())\n",
    "print(\"\\nPerpangkatan :\\n\" ,tf.pow(prime_tensor,random_tensor).numpy())"
   ]
  },
  {
   "cell_type": "markdown",
   "id": "6e3a8c76-a927-4b10-9bc7-bbec2a7a4559",
   "metadata": {},
   "source": [
    "### Menampilkan Nilai MAX dan MIN random_tensor"
   ]
  },
  {
   "cell_type": "code",
   "execution_count": 46,
   "id": "671056a8-a8ee-424e-9d26-dda8ff5a6af8",
   "metadata": {},
   "outputs": [
    {
     "name": "stdout",
     "output_type": "stream",
     "text": [
      "Nilai Maximal :  6.4610124\n",
      "Nilai Minimal : 3.3930943\n"
     ]
    }
   ],
   "source": [
    "max_all = tf.math.reduce_max(random_tensor)\n",
    "print('Nilai Maximal : ', max_all.numpy())\n",
    "\n",
    "min_all = tf.math.reduce_min(random_tensor)\n",
    "print('Nilai Minimal :', min_all.numpy())"
   ]
  },
  {
   "cell_type": "markdown",
   "id": "2303e023-d214-44c1-bba9-6dee3587f2d6",
   "metadata": {},
   "source": [
    "### Concatenation Random_tensor dengan Prime Tensor"
   ]
  },
  {
   "cell_type": "code",
   "execution_count": 47,
   "id": "3f7276ee-789d-4561-b126-8ceead01df04",
   "metadata": {},
   "outputs": [
    {
     "data": {
      "text/plain": [
       "array([[ 6.1062603,  6.4610124,  3.7857468,  5.7985277,  5.56736  ,\n",
       "         2.       ,  3.       ,  5.       ,  7.       , 11.       ],\n",
       "       [ 3.581728 ,  5.1960773,  3.982624 ,  4.374564 ,  5.1403136,\n",
       "        29.       , 23.       , 19.       , 17.       , 13.       ],\n",
       "       [ 5.138782 ,  4.7797604,  3.3930943,  4.2583537,  4.0098276,\n",
       "        31.       , 37.       , 41.       , 43.       , 47.       ],\n",
       "       [ 5.3088903,  6.071995 ,  4.80572  ,  4.3322344,  4.9571342,\n",
       "        71.       , 67.       , 61.       , 59.       , 53.       ],\n",
       "       [ 4.111652 ,  3.4733233,  4.321433 ,  5.552151 ,  3.9584675,\n",
       "        73.       , 79.       , 83.       , 89.       , 97.       ]],\n",
       "      dtype=float32)"
      ]
     },
     "execution_count": 47,
     "metadata": {},
     "output_type": "execute_result"
    }
   ],
   "source": [
    "concate = tf.concat([random_tensor, prime_tensor],axis = 1)\n",
    "concate.numpy()"
   ]
  },
  {
   "cell_type": "markdown",
   "id": "7fc3d1ff-cbca-423e-869b-c6b2d4da5909",
   "metadata": {},
   "source": [
    "### Hasil Sorting"
   ]
  },
  {
   "cell_type": "code",
   "execution_count": 48,
   "id": "1d85caee-898e-4f88-8e27-d5a28daa15d9",
   "metadata": {},
   "outputs": [
    {
     "name": "stdout",
     "output_type": "stream",
     "text": [
      "Concatenation Sort Descending :\n",
      " [[11.         7.         6.4610124  6.1062603  5.7985277  5.56736\n",
      "   5.         3.7857468  3.         2.       ]\n",
      " [29.        23.        19.        17.        13.         5.1960773\n",
      "   5.1403136  4.374564   3.982624   3.581728 ]\n",
      " [47.        43.        41.        37.        31.         5.138782\n",
      "   4.7797604  4.2583537  4.0098276  3.3930943]\n",
      " [71.        67.        61.        59.        53.         6.071995\n",
      "   5.3088903  4.9571342  4.80572    4.3322344]\n",
      " [97.        89.        83.        79.        73.         5.552151\n",
      "   4.321433   4.111652   3.9584675  3.4733233]]\n"
     ]
    }
   ],
   "source": [
    "print(\"Concatenation Sort Descending :\\n\",tf.sort(concate,direction=\"DESCENDING\").numpy())"
   ]
  },
  {
   "cell_type": "code",
   "execution_count": 49,
   "id": "2199a0ff-4aec-40a1-abef-8113efa9fc3d",
   "metadata": {},
   "outputs": [
    {
     "name": "stdout",
     "output_type": "stream",
     "text": [
      "Random_Tensor Sort Descending :\n",
      " [[6.4610124 6.1062603 5.7985277 5.56736   3.7857468]\n",
      " [5.1960773 5.1403136 4.374564  3.982624  3.581728 ]\n",
      " [5.138782  4.7797604 4.2583537 4.0098276 3.3930943]\n",
      " [6.071995  5.3088903 4.9571342 4.80572   4.3322344]\n",
      " [5.552151  4.321433  4.111652  3.9584675 3.4733233]]\n",
      "\n",
      "Prime_Tensor Sort Descending :\n",
      " [[11.  7.  5.  3.  2.]\n",
      " [29. 23. 19. 17. 13.]\n",
      " [47. 43. 41. 37. 31.]\n",
      " [71. 67. 61. 59. 53.]\n",
      " [97. 89. 83. 79. 73.]]\n"
     ]
    }
   ],
   "source": [
    "print(\"Random_Tensor Sort Descending :\\n\", tf.sort(random_tensor, direction = \"DESCENDING\").numpy())\n",
    "print(\"\\nPrime_Tensor Sort Descending :\\n\", tf.sort(prime_tensor, direction = \"DESCENDING\").numpy())"
   ]
  },
  {
   "cell_type": "code",
   "execution_count": null,
   "id": "ddc67d98-958b-4659-95d8-c881a045783f",
   "metadata": {},
   "outputs": [],
   "source": []
  }
 ],
 "metadata": {
  "kernelspec": {
   "display_name": "Python 3 (ipykernel)",
   "language": "python",
   "name": "python3"
  },
  "language_info": {
   "codemirror_mode": {
    "name": "ipython",
    "version": 3
   },
   "file_extension": ".py",
   "mimetype": "text/x-python",
   "name": "python",
   "nbconvert_exporter": "python",
   "pygments_lexer": "ipython3",
   "version": "3.10.7"
  }
 },
 "nbformat": 4,
 "nbformat_minor": 5
}
