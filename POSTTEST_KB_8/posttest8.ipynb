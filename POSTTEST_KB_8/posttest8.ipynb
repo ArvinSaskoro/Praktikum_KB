{
 "cells": [
  {
   "cell_type": "markdown",
   "id": "f5c5a23c-a405-41a4-9635-d75d5724c5b1",
   "metadata": {},
   "source": [
    "## Nama : M. Arvin Saskoro\n",
    "## NIM : 2109106048\n",
    "## Kelas : Informatika A2 21"
   ]
  },
  {
   "cell_type": "code",
   "execution_count": 6,
   "id": "93d84ab3-a521-4af5-abeb-d4eef9dab2cf",
   "metadata": {},
   "outputs": [],
   "source": [
    "import tensorflow as tf\n",
    "from tensorflow.keras.models import Sequential\n",
    "from tensorflow.keras.layers import Dense"
   ]
  },
  {
   "cell_type": "markdown",
   "id": "271745a5-be87-4f46-8b98-4b6587d3dce8",
   "metadata": {},
   "source": [
    "### Model Sequential\n",
    "### Membuat 4 Layer Dense"
   ]
  },
  {
   "cell_type": "code",
   "execution_count": 7,
   "id": "2455edcb-66bf-435f-8e4b-587db72152ae",
   "metadata": {},
   "outputs": [],
   "source": [
    "model = Sequential([\n",
    "    Dense(1, activation='linear', input_shape=(1,)),\n",
    "    Dense(128, activation='linear'),\n",
    "    Dense(128, activation='linear'),\n",
    "    Dense(1, activation='linear'),\n",
    "])"
   ]
  },
  {
   "cell_type": "code",
   "execution_count": 8,
   "id": "c9a333a6-1c04-48e0-aba0-a0316d589b74",
   "metadata": {},
   "outputs": [
    {
     "name": "stdout",
     "output_type": "stream",
     "text": [
      "Model: \"sequential\"\n",
      "_________________________________________________________________\n",
      " Layer (type)                Output Shape              Param #   \n",
      "=================================================================\n",
      " dense (Dense)               (None, 1)                 2         \n",
      "                                                                 \n",
      " dense_1 (Dense)             (None, 128)               256       \n",
      "                                                                 \n",
      " dense_2 (Dense)             (None, 128)               16512     \n",
      "                                                                 \n",
      " dense_3 (Dense)             (None, 1)                 129       \n",
      "                                                                 \n",
      "=================================================================\n",
      "Total params: 16,899\n",
      "Trainable params: 16,899\n",
      "Non-trainable params: 0\n",
      "_________________________________________________________________\n"
     ]
    }
   ],
   "source": [
    "model.summary()"
   ]
  },
  {
   "cell_type": "markdown",
   "id": "741afb89-934b-482f-bc9f-5a0d05fa7e3d",
   "metadata": {},
   "source": [
    "### Compile Model"
   ]
  },
  {
   "cell_type": "code",
   "execution_count": 10,
   "id": "679ae8f8-4058-4e31-a261-512a7d7a441c",
   "metadata": {},
   "outputs": [],
   "source": [
    "model.compile(optimizer='SGD', loss='mse', metrics=['mae'])"
   ]
  },
  {
   "cell_type": "markdown",
   "id": "0ac84503-828e-42fb-a7c7-912b3922eb8e",
   "metadata": {},
   "source": [
    "### Training Model"
   ]
  },
  {
   "cell_type": "code",
   "execution_count": 14,
   "id": "7bb8e001-a4e8-4fbf-a2bb-05e262de88e4",
   "metadata": {},
   "outputs": [],
   "source": [
    "import numpy as np\n",
    "\n",
    "x = np.array([1, 1.3, 1.4, 2, 2.4])\n",
    "y = np.array([2, 2.6, 2.8, 4, 4.8])"
   ]
  },
  {
   "cell_type": "code",
   "execution_count": 15,
   "id": "893aa3cd-c2e8-4aec-9e6d-7747167fc07d",
   "metadata": {},
   "outputs": [
    {
     "name": "stdout",
     "output_type": "stream",
     "text": [
      "Epoch 1/10\n",
      "1/1 - 0s - loss: 9.3957 - mae: 2.9250 - 376ms/epoch - 376ms/step\n",
      "Epoch 2/10\n",
      "1/1 - 0s - loss: 0.9991 - mae: 0.9800 - 4ms/epoch - 4ms/step\n",
      "Epoch 3/10\n",
      "1/1 - 0s - loss: 0.4486 - mae: 0.6206 - 4ms/epoch - 4ms/step\n",
      "Epoch 4/10\n",
      "1/1 - 0s - loss: 0.0595 - mae: 0.2439 - 4ms/epoch - 4ms/step\n",
      "Epoch 5/10\n",
      "1/1 - 0s - loss: 0.0192 - mae: 0.1063 - 4ms/epoch - 4ms/step\n",
      "Epoch 6/10\n",
      "1/1 - 0s - loss: 0.0078 - mae: 0.0754 - 0s/epoch - 0s/step\n",
      "Epoch 7/10\n",
      "1/1 - 0s - loss: 0.0056 - mae: 0.0672 - 4ms/epoch - 4ms/step\n",
      "Epoch 8/10\n",
      "1/1 - 0s - loss: 0.0050 - mae: 0.0644 - 4ms/epoch - 4ms/step\n",
      "Epoch 9/10\n",
      "1/1 - 0s - loss: 0.0048 - mae: 0.0646 - 4ms/epoch - 4ms/step\n",
      "Epoch 10/10\n",
      "1/1 - 0s - loss: 0.0046 - mae: 0.0633 - 4ms/epoch - 4ms/step\n"
     ]
    }
   ],
   "source": [
    "history = model.fit(x, y, epochs=10, verbose=2)"
   ]
  },
  {
   "cell_type": "markdown",
   "id": "fa632de3-ad06-4920-abe4-ea7dc3f1c423",
   "metadata": {},
   "source": [
    "### Menampilkan Perubahan nilai Loss dan MAE"
   ]
  },
  {
   "cell_type": "code",
   "execution_count": 16,
   "id": "7fdeb58e-6942-4c8e-af9c-5e9427786cd1",
   "metadata": {},
   "outputs": [
    {
     "data": {
      "image/png": "[encoded data removed]",
      "text/plain": [
       "<Figure size 640x480 with 1 Axes>"
      ]
     },
     "metadata": {},
     "output_type": "display_data"
    },
    {
     "data": {
      "image/png": "[encoded data removed]",
      "text/plain": [
       "<Figure size 640x480 with 1 Axes>"
      ]
     },
     "metadata": {},
     "output_type": "display_data"
    }
   ],
   "source": [
    "import matplotlib.pyplot as plt\n",
    "\n",
    "plt.plot(history.history['loss'])\n",
    "plt.show()\n",
    "\n",
    "plt.plot(history.history['mae'])\n",
    "plt.show()"
   ]
  },
  {
   "cell_type": "markdown",
   "id": "9e83ee11-4733-4ab8-98b5-d2d518ea9367",
   "metadata": {},
   "source": [
    "### Prediksi Data"
   ]
  },
  {
   "cell_type": "code",
   "execution_count": 18,
   "id": "d307ff5f-522f-4fd8-be99-161b69604251",
   "metadata": {},
   "outputs": [],
   "source": [
    "test = np.array([1.2])"
   ]
  },
  {
   "cell_type": "code",
   "execution_count": 19,
   "id": "4e942db0-be30-4bd8-af33-76b69f91252a",
   "metadata": {},
   "outputs": [
    {
     "name": "stdout",
     "output_type": "stream",
     "text": [
      "1/1 [==============================] - 0s 84ms/step\n"
     ]
    },
    {
     "data": {
      "text/plain": [
       "array([[2.4707818]], dtype=float32)"
      ]
     },
     "execution_count": 19,
     "metadata": {},
     "output_type": "execute_result"
    }
   ],
   "source": [
    "model.predict(test)"
   ]
  },
  {
   "cell_type": "code",
   "execution_count": null,
   "id": "08c7986a-ca3b-41ef-a541-ac7fb6476b19",
   "metadata": {},
   "outputs": [],
   "source": []
  }
 ],
 "metadata": {
  "kernelspec": {
   "display_name": "Python 3 (ipykernel)",
   "language": "python",
   "name": "python3"
  },
  "language_info": {
   "codemirror_mode": {
    "name": "ipython",
    "version": 3
   },
   "file_extension": ".py",
   "mimetype": "text/x-python",
   "name": "python",
   "nbconvert_exporter": "python",
   "pygments_lexer": "ipython3",
   "version": "3.10.7"
  }
 },
 "nbformat": 4,
 "nbformat_minor": 5
}
