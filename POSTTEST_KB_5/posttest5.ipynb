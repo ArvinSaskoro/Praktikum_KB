{
 "cells": [
  {
   "cell_type": "code",
   "execution_count": 1,
   "id": "2fb1f32f-b48c-4d11-ad67-1cbe6d9720cd",
   "metadata": {},
   "outputs": [],
   "source": [
    "import pandas as pd\n",
    "import numpy as np"
   ]
  },
  {
   "cell_type": "code",
   "execution_count": 2,
   "id": "9f0de46d-7213-4d05-8c3d-8758ea465982",
   "metadata": {},
   "outputs": [
    {
     "name": "stdout",
     "output_type": "stream",
     "text": [
      "<class 'pandas.core.frame.DataFrame'>\n",
      "RangeIndex: 319795 entries, 0 to 319794\n",
      "Data columns (total 18 columns):\n",
      " #   Column            Non-Null Count   Dtype  \n",
      "---  ------            --------------   -----  \n",
      " 0   HeartDisease      319795 non-null  object \n",
      " 1   BMI               319785 non-null  float64\n",
      " 2   Smoking           319795 non-null  object \n",
      " 3   AlcoholDrinking   319795 non-null  object \n",
      " 4   Stroke            319795 non-null  object \n",
      " 5   PhysicalHealth    319795 non-null  float64\n",
      " 6   MentalHealth      319795 non-null  float64\n",
      " 7   DiffWalking       319795 non-null  object \n",
      " 8   Sex               319795 non-null  object \n",
      " 9   AgeCategory       319795 non-null  object \n",
      " 10  Race              319795 non-null  object \n",
      " 11  Diabetic          319795 non-null  object \n",
      " 12  PhysicalActivity  319795 non-null  object \n",
      " 13  GenHealth         319795 non-null  object \n",
      " 14  SleepTime         319795 non-null  float64\n",
      " 15  Asthma            319795 non-null  object \n",
      " 16  KidneyDisease     319795 non-null  object \n",
      " 17  SkinCancer        319795 non-null  object \n",
      "dtypes: float64(4), object(14)\n",
      "memory usage: 43.9+ MB\n"
     ]
    }
   ],
   "source": [
    "df = pd.read_csv(\"heart_2020_cleaned.csv\")\n",
    "df.info()"
   ]
  },
  {
   "cell_type": "markdown",
   "id": "8c980b0d-3a17-4ec2-b247-732cc6f2e7b1",
   "metadata": {},
   "source": [
    "### Standarisasi dataset"
   ]
  },
  {
   "cell_type": "code",
   "execution_count": 14,
   "id": "1283def3-80a1-4083-a02a-ad6707d7c8b8",
   "metadata": {},
   "outputs": [],
   "source": [
    "from sklearn.preprocessing import StandardScaler,OrdinalEncoder\n",
    "\n",
    "enc = OrdinalEncoder()\n",
    "df[[\"Smoking\",\"Diabetic\",\"Asthma\"]] = enc.fit_transform(df[[\"Smoking\",\"Diabetic\",\"Asthma\"]])\n",
    "\n",
    "std = StandardScaler()\n",
    "df[[\"PhysicalHealth\", \"MentalHealth\"]] = std.fit_transform(df[[\"PhysicalHealth\", \"MentalHealth\"]])"
   ]
  },
  {
   "cell_type": "markdown",
   "id": "8585f3ed-7dc8-4608-b1ea-7cee45185fa9",
   "metadata": {},
   "source": [
    "### Split Data Classification"
   ]
  },
  {
   "cell_type": "code",
   "execution_count": 4,
   "id": "8389398f-63c5-452b-a4eb-8b31167a3cd1",
   "metadata": {},
   "outputs": [],
   "source": [
    "from sklearn.model_selection import train_test_split\n",
    "\n",
    "x = df[[\"Smoking\",\"Diabetic\",\"Asthma\"]]\n",
    "y = df[\"HeartDisease\"]\n",
    "\n",
    "x_train, x_test, y_train, y_test = train_test_split(x, y, test_size=0.2, random_state=0)"
   ]
  },
  {
   "cell_type": "markdown",
   "id": "1a8a22b2-51b8-4eb1-bba2-32fed88df848",
   "metadata": {},
   "source": [
    "## Classification\n",
    "### Decision Tree"
   ]
  },
  {
   "cell_type": "code",
   "execution_count": 19,
   "id": "6aa0737f-2796-4bd2-9c93-ce99941f2e9f",
   "metadata": {},
   "outputs": [
    {
     "name": "stdout",
     "output_type": "stream",
     "text": [
      "Decision Tree akurasi :  91.48360668553292 %\n"
     ]
    }
   ],
   "source": [
    "from sklearn.tree import DecisionTreeClassifier\n",
    "\n",
    "tree = DecisionTreeClassifier().fit(x_train, y_train)\n",
    "predict_tree = tree.predict(x_test)\n",
    "print(\"Decision Tree akurasi : \", accuracy_score(y_test, predict_tree)*100,\"%\")"
   ]
  },
  {
   "cell_type": "markdown",
   "id": "fb690d46-fd03-46ca-a523-dda62a05dbc1",
   "metadata": {
    "tags": []
   },
   "source": [
    "### KNN"
   ]
  },
  {
   "cell_type": "code",
   "execution_count": 20,
   "id": "8da696ae-5398-4a0b-af20-c08aeace1afb",
   "metadata": {},
   "outputs": [
    {
     "name": "stdout",
     "output_type": "stream",
     "text": [
      "KNN akurasi : 91.48360668553292 %\n"
     ]
    }
   ],
   "source": [
    "from sklearn.neighbors import KNeighborsClassifier\n",
    "from sklearn.metrics import accuracy_score\n",
    "\n",
    "knn = KNeighborsClassifier(n_neighbors=5).fit(x_train, y_train)\n",
    "predict_knn = knn.predict(x_test)\n",
    "print(\"KNN akurasi :\", accuracy_score(y_test, predict_knn)*100, \"%\")"
   ]
  },
  {
   "cell_type": "markdown",
   "id": "6ee3af7e-d235-443e-8151-5de87be28d45",
   "metadata": {},
   "source": [
    "### Naive Bayes"
   ]
  },
  {
   "cell_type": "code",
   "execution_count": 21,
   "id": "f456e0d9-6d1a-4434-a46d-960e02853b9a",
   "metadata": {},
   "outputs": [
    {
     "name": "stdout",
     "output_type": "stream",
     "text": [
      "Naive Bayes akurasi :  89.47919761096954 %\n"
     ]
    }
   ],
   "source": [
    "from sklearn.naive_bayes import GaussianNB\n",
    "\n",
    "nb = GaussianNB().fit(x_train, y_train)\n",
    "predict_nb = nb.predict(x_test)\n",
    "print(\"Naive Bayes akurasi : \", accuracy_score(y_test, predict_nb)*100,\"%\")"
   ]
  },
  {
   "cell_type": "markdown",
   "id": "7af71065-24af-4728-8e7c-0ae6760576bc",
   "metadata": {},
   "source": [
    "## Split Data Regression"
   ]
  },
  {
   "cell_type": "code",
   "execution_count": 11,
   "id": "6484ed03-4946-4339-86cb-f59a07ff0745",
   "metadata": {},
   "outputs": [
    {
     "name": "stderr",
     "output_type": "stream",
     "text": [
      "C:\\Users\\sasko\\AppData\\Local\\Temp\\ipykernel_13920\\1134722465.py:1: FutureWarning: The default value of numeric_only in DataFrame.corr is deprecated. In a future version, it will default to False. Select only valid columns or specify the value of numeric_only to silence this warning.\n",
      "  df.corr()\n"
     ]
    },
    {
     "data": {
      "text/html": [
       "<div>\n",
       "<style scoped>\n",
       "    .dataframe tbody tr th:only-of-type {\n",
       "        vertical-align: middle;\n",
       "    }\n",
       "\n",
       "    .dataframe tbody tr th {\n",
       "        vertical-align: top;\n",
       "    }\n",
       "\n",
       "    .dataframe thead th {\n",
       "        text-align: right;\n",
       "    }\n",
       "</style>\n",
       "<table border=\"1\" class=\"dataframe\">\n",
       "  <thead>\n",
       "    <tr style=\"text-align: right;\">\n",
       "      <th></th>\n",
       "      <th>BMI</th>\n",
       "      <th>Smoking</th>\n",
       "      <th>PhysicalHealth</th>\n",
       "      <th>MentalHealth</th>\n",
       "      <th>Diabetic</th>\n",
       "      <th>SleepTime</th>\n",
       "      <th>Asthma</th>\n",
       "    </tr>\n",
       "  </thead>\n",
       "  <tbody>\n",
       "    <tr>\n",
       "      <th>BMI</th>\n",
       "      <td>1.000000</td>\n",
       "      <td>0.023132</td>\n",
       "      <td>0.109790</td>\n",
       "      <td>0.064158</td>\n",
       "      <td>0.163441</td>\n",
       "      <td>-0.051831</td>\n",
       "      <td>0.092367</td>\n",
       "    </tr>\n",
       "    <tr>\n",
       "      <th>Smoking</th>\n",
       "      <td>0.023132</td>\n",
       "      <td>1.000000</td>\n",
       "      <td>0.115352</td>\n",
       "      <td>0.085157</td>\n",
       "      <td>0.038993</td>\n",
       "      <td>-0.030336</td>\n",
       "      <td>0.024149</td>\n",
       "    </tr>\n",
       "    <tr>\n",
       "      <th>PhysicalHealth</th>\n",
       "      <td>0.109790</td>\n",
       "      <td>0.115352</td>\n",
       "      <td>1.000000</td>\n",
       "      <td>0.287987</td>\n",
       "      <td>0.111644</td>\n",
       "      <td>-0.061387</td>\n",
       "      <td>0.117907</td>\n",
       "    </tr>\n",
       "    <tr>\n",
       "      <th>MentalHealth</th>\n",
       "      <td>0.064158</td>\n",
       "      <td>0.085157</td>\n",
       "      <td>0.287987</td>\n",
       "      <td>1.000000</td>\n",
       "      <td>0.029970</td>\n",
       "      <td>-0.119717</td>\n",
       "      <td>0.114008</td>\n",
       "    </tr>\n",
       "    <tr>\n",
       "      <th>Diabetic</th>\n",
       "      <td>0.163441</td>\n",
       "      <td>0.038993</td>\n",
       "      <td>0.111644</td>\n",
       "      <td>0.029970</td>\n",
       "      <td>1.000000</td>\n",
       "      <td>-0.005166</td>\n",
       "      <td>0.044136</td>\n",
       "    </tr>\n",
       "    <tr>\n",
       "      <th>SleepTime</th>\n",
       "      <td>-0.051831</td>\n",
       "      <td>-0.030336</td>\n",
       "      <td>-0.061387</td>\n",
       "      <td>-0.119717</td>\n",
       "      <td>-0.005166</td>\n",
       "      <td>1.000000</td>\n",
       "      <td>-0.048245</td>\n",
       "    </tr>\n",
       "    <tr>\n",
       "      <th>Asthma</th>\n",
       "      <td>0.092367</td>\n",
       "      <td>0.024149</td>\n",
       "      <td>0.117907</td>\n",
       "      <td>0.114008</td>\n",
       "      <td>0.044136</td>\n",
       "      <td>-0.048245</td>\n",
       "      <td>1.000000</td>\n",
       "    </tr>\n",
       "  </tbody>\n",
       "</table>\n",
       "</div>"
      ],
      "text/plain": [
       "                     BMI   Smoking  PhysicalHealth  MentalHealth  Diabetic  \\\n",
       "BMI             1.000000  0.023132        0.109790      0.064158  0.163441   \n",
       "Smoking         0.023132  1.000000        0.115352      0.085157  0.038993   \n",
       "PhysicalHealth  0.109790  0.115352        1.000000      0.287987  0.111644   \n",
       "MentalHealth    0.064158  0.085157        0.287987      1.000000  0.029970   \n",
       "Diabetic        0.163441  0.038993        0.111644      0.029970  1.000000   \n",
       "SleepTime      -0.051831 -0.030336       -0.061387     -0.119717 -0.005166   \n",
       "Asthma          0.092367  0.024149        0.117907      0.114008  0.044136   \n",
       "\n",
       "                SleepTime    Asthma  \n",
       "BMI             -0.051831  0.092367  \n",
       "Smoking         -0.030336  0.024149  \n",
       "PhysicalHealth  -0.061387  0.117907  \n",
       "MentalHealth    -0.119717  0.114008  \n",
       "Diabetic        -0.005166  0.044136  \n",
       "SleepTime        1.000000 -0.048245  \n",
       "Asthma          -0.048245  1.000000  "
      ]
     },
     "execution_count": 11,
     "metadata": {},
     "output_type": "execute_result"
    }
   ],
   "source": [
    "df.corr()"
   ]
  },
  {
   "cell_type": "markdown",
   "id": "d4e333f5-61bb-4b6c-90e1-ccca5ecdffc1",
   "metadata": {},
   "source": [
    "### Linear Regression"
   ]
  },
  {
   "cell_type": "code",
   "execution_count": 29,
   "id": "1545b43a-34e2-4f76-b690-79a71f251932",
   "metadata": {},
   "outputs": [],
   "source": [
    "import numpy as np\n",
    "import matplotlib.pyplot as plt\n",
    "from sklearn.metrics import accuracy_score,mean_absolute_error,mean_squared_error\n",
    "\n",
    "x=np.array(df[['PhysicalHealth']])\n",
    "y=np.array(df.MentalHealth)\n",
    "x_train,x_test,y_train,y_test=train_test_split(x,y,test_size=0.3)"
   ]
  },
  {
   "cell_type": "code",
   "execution_count": 30,
   "id": "e1c7fe99-5151-4355-8646-f83901c4ec01",
   "metadata": {},
   "outputs": [
    {
     "data": {
      "image/png": "[encoded data removed]",
      "text/plain": [
       "<Figure size 640x480 with 1 Axes>"
      ]
     },
     "metadata": {},
     "output_type": "display_data"
    },
    {
     "name": "stdout",
     "output_type": "stream",
     "text": [
      "MAE  :  0.6395290109312299\n",
      "RMSE :  0.9584357966931972\n"
     ]
    }
   ],
   "source": [
    "from sklearn.linear_model import LinearRegression\n",
    "\n",
    "model_linear=LinearRegression().fit(x_train,y_train)\n",
    "predict_linear=model_linear.predict(x_test)\n",
    "plt.scatter(x_test,x_test,color=\"blue\")\n",
    "plt.plot(x_test,predict_linear,color=\"red\")\n",
    "plt.xlabel(\"PhysicalHealth\")\n",
    "plt.ylabel(\"MentalHealth\")\n",
    "plt.show()\n",
    "print(\"MAE  : \",mean_absolute_error(predict_linear,y_test))\n",
    "print(\"RMSE : \",np.sqrt(mean_squared_error(predict_linear,y_test)))"
   ]
  },
  {
   "cell_type": "code",
   "execution_count": null,
   "id": "e7d10697-810e-4625-877f-7656b5f5e6c1",
   "metadata": {},
   "outputs": [],
   "source": []
  }
 ],
 "metadata": {
  "kernelspec": {
   "display_name": "Python 3 (ipykernel)",
   "language": "python",
   "name": "python3"
  },
  "language_info": {
   "codemirror_mode": {
    "name": "ipython",
    "version": 3
   },
   "file_extension": ".py",
   "mimetype": "text/x-python",
   "name": "python",
   "nbconvert_exporter": "python",
   "pygments_lexer": "ipython3",
   "version": "3.10.7"
  }
 },
 "nbformat": 4,
 "nbformat_minor": 5
}
